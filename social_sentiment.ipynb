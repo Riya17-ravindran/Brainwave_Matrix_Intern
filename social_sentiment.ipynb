{
 "cells": [
  {
   "cell_type": "code",
   "execution_count": 1,
   "id": "9463ff1d-ce5c-4b85-9b3b-c41c5e1ec026",
   "metadata": {},
   "outputs": [
    {
     "name": "stdout",
     "output_type": "stream",
     "text": [
      "Defaulting to user installation because normal site-packages is not writeable\n",
      "Requirement already satisfied: tweepy in c:\\users\\hp\\appdata\\roaming\\python\\python312\\site-packages (4.14.0)\n",
      "Requirement already satisfied: oauthlib<4,>=3.2.0 in c:\\users\\hp\\appdata\\roaming\\python\\python312\\site-packages (from tweepy) (3.2.2)\n",
      "Requirement already satisfied: requests<3,>=2.27.0 in c:\\programdata\\anaconda3\\lib\\site-packages (from tweepy) (2.32.2)\n",
      "Requirement already satisfied: requests-oauthlib<2,>=1.2.0 in c:\\users\\hp\\appdata\\roaming\\python\\python312\\site-packages (from tweepy) (1.3.1)\n",
      "Requirement already satisfied: charset-normalizer<4,>=2 in c:\\programdata\\anaconda3\\lib\\site-packages (from requests<3,>=2.27.0->tweepy) (2.0.4)\n",
      "Requirement already satisfied: idna<4,>=2.5 in c:\\programdata\\anaconda3\\lib\\site-packages (from requests<3,>=2.27.0->tweepy) (3.7)\n",
      "Requirement already satisfied: urllib3<3,>=1.21.1 in c:\\programdata\\anaconda3\\lib\\site-packages (from requests<3,>=2.27.0->tweepy) (2.2.2)\n",
      "Requirement already satisfied: certifi>=2017.4.17 in c:\\programdata\\anaconda3\\lib\\site-packages (from requests<3,>=2.27.0->tweepy) (2024.6.2)\n",
      "Note: you may need to restart the kernel to use updated packages.\n"
     ]
    }
   ],
   "source": [
    "pip install tweepy\n"
   ]
  },
  {
   "cell_type": "code",
   "execution_count": 2,
   "id": "3676cb39-e107-41a8-9f16-a78d7f74a83c",
   "metadata": {},
   "outputs": [],
   "source": [
    "import tweepy\n",
    "from nltk.sentiment.vader import SentimentIntensityAnalyzer\n",
    "import matplotlib.pyplot as plt\n",
    "import pandas as pd\n",
    "import nltk\n"
   ]
  },
  {
   "cell_type": "code",
   "execution_count": 3,
   "id": "afa12e7a-b651-4781-a67e-5baca0d8200b",
   "metadata": {},
   "outputs": [],
   "source": [
    "import time"
   ]
  },
  {
   "cell_type": "code",
   "execution_count": 4,
   "id": "a255e483-6d08-4b99-8f37-b0d7af52e3ca",
   "metadata": {},
   "outputs": [
    {
     "name": "stderr",
     "output_type": "stream",
     "text": [
      "[nltk_data] Downloading package vader_lexicon to\n",
      "[nltk_data]     C:\\Users\\Hp\\AppData\\Roaming\\nltk_data...\n",
      "[nltk_data]   Package vader_lexicon is already up-to-date!\n"
     ]
    },
    {
     "data": {
      "text/plain": [
       "True"
      ]
     },
     "execution_count": 4,
     "metadata": {},
     "output_type": "execute_result"
    }
   ],
   "source": [
    "# Download NLTK resources (only needed the first time)\n",
    "nltk.download('vader_lexicon')"
   ]
  },
  {
   "cell_type": "code",
   "execution_count": 5,
   "id": "55785da9-77fd-4fb6-ae94-d7ada13b87c4",
   "metadata": {},
   "outputs": [],
   "source": [
    "BEARER_TOKEN = \"AAAAAAAAAAAAAAAAAAAAAAilyAEAAAAAsTUHC07DT6P5DXAQPtXXFTHFqlE%3Dq9JxaCVUulyX8QeyNLBFd83l3ZuNeGWX7Iy2SfTZgZUzcIH8f8\""
   ]
  },
  {
   "cell_type": "code",
   "execution_count": 6,
   "id": "30ec5de3-8d6f-4c46-9eaf-acffaf857ac5",
   "metadata": {},
   "outputs": [],
   "source": [
    "\n",
    "# Step 1: Fetch Tweets\n",
    "def fetch_tweets(topic, count=10):\n",
    "    client = tweepy.Client(bearer_token=BEARER_TOKEN)\n",
    "    try:\n",
    "        response = client.search_recent_tweets(query=topic, max_results=count, tweet_fields=[\"created_at\"])\n",
    "        tweets = [{\"text\": tweet.text, \"created_at\": tweet.created_at} for tweet in response.data]\n",
    "        return tweets\n",
    "    except Exception as e:\n",
    "        print(f\"Error fetching tweets: {e}\")\n",
    "        return []"
   ]
  },
  {
   "cell_type": "code",
   "execution_count": 7,
   "id": "10c70b4e-9a01-42f3-8ad8-2fbcf79f81df",
   "metadata": {},
   "outputs": [],
   "source": [
    "def handle_rate_limits(client, query, max_results):\n",
    "    try:\n",
    "        response = client.search_recent_tweets(query=query, max_results=max_results)\n",
    "        return response.data\n",
    "    except tweepy.errors.TooManyRequests as e:\n",
    "        reset_time = int(e.response.headers.get(\"x-rate-limit-reset\", time.time() + 15 * 60))\n",
    "        wait_time = reset_time - int(time.time())\n",
    "        print(f\"Rate limit reached. Waiting {wait_time} seconds.\")\n",
    "        time.sleep(wait_time)\n",
    "        return handle_rate_limits(client, query, max_results)\n",
    "\n"
   ]
  },
  {
   "cell_type": "code",
   "execution_count": 8,
   "id": "43b4a7c7-cfd1-4604-b6f8-f7fbb3423d8f",
   "metadata": {},
   "outputs": [],
   "source": [
    "def fetch_paginated_tweets(client, query, max_results, max_pages=3):\n",
    "    tweets = []\n",
    "    next_token = None\n",
    "\n",
    "    for _ in range(max_pages):\n",
    "        response = client.search_recent_tweets(query=query, max_results=max_results, next_token=next_token)\n",
    "        if response.data:\n",
    "            tweets.extend(response.data)\n",
    "        next_token = response.meta.get(\"next_token\")\n",
    "        if not next_token:\n",
    "            break  # No more pages\n",
    "    return tweets"
   ]
  },
  {
   "cell_type": "code",
   "execution_count": 9,
   "id": "8a8999a9-fa8f-4a89-aa6c-ee76bad954dc",
   "metadata": {},
   "outputs": [],
   "source": [
    "# Step 2: Analyze Sentiment\n",
    "def analyze_sentiment(tweets):\n",
    "    sid = SentimentIntensityAnalyzer()\n",
    "    for tweet in tweets:\n",
    "        sentiment_score = sid.polarity_scores(tweet[\"text\"])[\"compound\"]\n",
    "        tweet[\"sentiment\"] = sentiment_score\n",
    "    return tweets"
   ]
  },
  {
   "cell_type": "code",
   "execution_count": 10,
   "id": "085d644a-62b1-4be8-803a-a0e4ee85a68f",
   "metadata": {},
   "outputs": [],
   "source": [
    "\n",
    "# Step 3: Visualize Sentiment\n",
    "def visualize_sentiment(tweets):\n",
    "    df = pd.DataFrame(tweets)\n",
    "    df[\"created_at\"] = pd.to_datetime(df[\"created_at\"])\n",
    "    df = df.set_index(\"created_at\").resample(\"H\").mean()  # Resample sentiment by hour\n",
    "    df[\"sentiment\"].plot(kind=\"line\", figsize=(10, 6), title=\"Sentiment Trend Over Time\", ylabel=\"Sentiment Score\")\n",
    "    plt.axhline(0, color='red', linestyle='--')  # Neutral sentiment line\n",
    "    plt.show()\n"
   ]
  },
  {
   "cell_type": "code",
   "execution_count": 11,
   "id": "d5c018ef-7d9f-4f00-b498-f2708a15389b",
   "metadata": {
    "scrolled": true
   },
   "outputs": [
    {
     "name": "stdout",
     "output_type": "stream",
     "text": [
      "Fetching tweets about 'narendra modi'...\n",
      "Error fetching tweets: 429 Too Many Requests\n",
      "Usage cap exceeded: Monthly product cap\n",
      "No tweets fetched.\n"
     ]
    }
   ],
   "source": [
    "# Main Function\n",
    "if __name__ == \"__main__\":\n",
    "    topic = \"narendra modi\"  # Replace with your topic of interest\n",
    "    print(f\"Fetching tweets about '{topic}'...\")\n",
    "    \n",
    "    tweets = fetch_tweets(topic, count=50)  # Fetch tweets\n",
    "    if tweets:\n",
    "        tweets = analyze_sentiment(tweets)  # Analyze sentiment\n",
    "        visualize_sentiment(tweets)  # Visualize sentiment\n",
    "    else:\n",
    "        print(\"No tweets fetched.\")"
   ]
  },
  {
   "cell_type": "code",
   "execution_count": null,
   "id": "e13be60e-e0a5-4c17-8ecb-60223b176910",
   "metadata": {},
   "outputs": [],
   "source": []
  }
 ],
 "metadata": {
  "kernelspec": {
   "display_name": "Python 3 (ipykernel)",
   "language": "python",
   "name": "python3"
  },
  "language_info": {
   "codemirror_mode": {
    "name": "ipython",
    "version": 3
   },
   "file_extension": ".py",
   "mimetype": "text/x-python",
   "name": "python",
   "nbconvert_exporter": "python",
   "pygments_lexer": "ipython3",
   "version": "3.12.4"
  }
 },
 "nbformat": 4,
 "nbformat_minor": 5
}
